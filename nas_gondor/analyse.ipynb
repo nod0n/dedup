{
 "cells": [
  {
   "cell_type": "code",
   "outputs": [],
   "source": [
    "import json\n",
    "from collections import Counter\n",
    "import random"
   ],
   "metadata": {
    "collapsed": false,
    "ExecuteTime": {
     "end_time": "2024-02-09T12:06:41.681060Z",
     "start_time": "2024-02-09T12:06:41.671317Z"
    }
   },
   "id": "371c892fd8b6e084",
   "execution_count": 70
  },
  {
   "cell_type": "code",
   "outputs": [],
   "source": [
    "with open('rmlint.json') as f:    \n",
    "    data = json.load(f)"
   ],
   "metadata": {
    "collapsed": false,
    "ExecuteTime": {
     "end_time": "2024-02-09T12:06:41.774931Z",
     "start_time": "2024-02-09T12:06:41.677434Z"
    }
   },
   "id": "c802a9520f0703eb",
   "execution_count": 71
  },
  {
   "cell_type": "code",
   "outputs": [
    {
     "name": "stdout",
     "output_type": "stream",
     "text": [
      "Type of loaded data: <class 'list'>\n",
      "Number of elements in the data: 37530\n",
      "Key: id, Count: 37528\n",
      "Key: type, Count: 37528\n",
      "Key: progress, Count: 37528\n",
      "Key: path, Count: 37528\n",
      "Key: size, Count: 37528\n",
      "Key: depth, Count: 37528\n",
      "Key: inode, Count: 37528\n",
      "Key: disk_id, Count: 37528\n",
      "Key: is_original, Count: 37528\n",
      "Key: mtime, Count: 37528\n",
      "Key: checksum, Count: 34350\n",
      "Key: parent_path, Count: 132\n",
      "Key: n_children, Count: 30\n",
      "Key: twins, Count: 34218\n"
     ]
    }
   ],
   "source": [
    "print(f\"Type of loaded data: {type(data)}\")\n",
    "\n",
    "unique_keys_counter = Counter()\n",
    "\n",
    "if isinstance(data, list):\n",
    "    print(f\"Number of elements in the data: {len(data)}\")\n",
    "    for item in data[1:-1]:\n",
    "        if isinstance(item, dict):\n",
    "            for key in item.keys():\n",
    "                unique_keys_counter[key] += 1\n",
    "        \n",
    "for key, count in unique_keys_counter.items():\n",
    "    print(f\"Key: {key}, Count: {count}\")"
   ],
   "metadata": {
    "collapsed": false,
    "ExecuteTime": {
     "end_time": "2024-02-09T12:06:41.841906Z",
     "start_time": "2024-02-09T12:06:41.799433Z"
    }
   },
   "id": "b9e99af9fe07a2ab",
   "execution_count": 72
  },
  {
   "cell_type": "code",
   "outputs": [
    {
     "data": {
      "text/plain": "{'description': 'rmlint json-dump of lint files',\n 'cwd': '/volume1/homes/Nod0n/Drive/rmlint/',\n 'args': 'rmlint -gkmD /volume1/Gondor/ // /volume1/photo /volume1/homes/ /volume1/Bruchtal/',\n 'version': '2.10.2',\n 'rev': 'unknown',\n 'progress': 0,\n 'checksum_type': 'blake2b',\n 'merge_directories': True}"
     },
     "execution_count": 73,
     "metadata": {},
     "output_type": "execute_result"
    }
   ],
   "source": [
    "data[0]"
   ],
   "metadata": {
    "collapsed": false,
    "ExecuteTime": {
     "end_time": "2024-02-09T12:06:41.842455Z",
     "start_time": "2024-02-09T12:06:41.840323Z"
    }
   },
   "id": "94523ad050c0ec68",
   "execution_count": 73
  },
  {
   "cell_type": "code",
   "outputs": [
    {
     "data": {
      "text/plain": "{'aborted': False,\n 'progress': 100,\n 'total_files': 2086093,\n 'ignored_files': 0,\n 'ignored_folders': 0,\n 'duplicates': 14382,\n 'duplicate_sets': 13938,\n 'total_lint_size': 23827012244}"
     },
     "execution_count": 74,
     "metadata": {},
     "output_type": "execute_result"
    }
   ],
   "source": [
    "data[-1]"
   ],
   "metadata": {
    "collapsed": false,
    "ExecuteTime": {
     "end_time": "2024-02-09T12:06:41.846145Z",
     "start_time": "2024-02-09T12:06:41.843265Z"
    }
   },
   "id": "9e1344b37cb0b65e",
   "execution_count": 74
  },
  {
   "cell_type": "code",
   "outputs": [
    {
     "data": {
      "text/plain": "{'id': 1542826447,\n 'type': 'emptydir',\n 'progress': 100,\n 'path': '/volume1/Gondor/MSI Aaron/Archiv/Windows Backup MSI old1/Data/C/Windows/System32/ras',\n 'size': 0,\n 'depth': 8,\n 'inode': 620801,\n 'disk_id': 41,\n 'is_original': False,\n 'mtime': 1634443996.1048765}"
     },
     "execution_count": 75,
     "metadata": {},
     "output_type": "execute_result"
    }
   ],
   "source": [
    "data[2]"
   ],
   "metadata": {
    "collapsed": false,
    "ExecuteTime": {
     "end_time": "2024-02-09T12:06:41.846840Z",
     "start_time": "2024-02-09T12:06:41.844978Z"
    }
   },
   "id": "7ed4cf941accd7c4",
   "execution_count": 75
  },
  {
   "cell_type": "code",
   "outputs": [
    {
     "data": {
      "text/plain": "1077"
     },
     "execution_count": 76,
     "metadata": {},
     "output_type": "execute_result"
    }
   ],
   "source": [
    "empty_dirs = [item for item in data if isinstance(item, dict) and item.get('type') == 'emptydir']\n",
    "len(empty_dirs)"
   ],
   "metadata": {
    "collapsed": false,
    "ExecuteTime": {
     "end_time": "2024-02-09T12:06:41.855180Z",
     "start_time": "2024-02-09T12:06:41.851783Z"
    }
   },
   "id": "a6649534d3888f37",
   "execution_count": 76
  },
  {
   "cell_type": "code",
   "outputs": [
    {
     "data": {
      "text/plain": "[{'id': 3867650435,\n  'type': 'emptydir',\n  'progress': 100,\n  'path': '/volume1/Gondor/ASUS Miz/Archiv/Windows Backup/MIZ-ASUS/Data/C/Users/miz/AppData/LocalLow/Adobe/Linguistics',\n  'size': 0,\n  'depth': 12,\n  'inode': 1951553,\n  'disk_id': 41,\n  'is_original': False,\n  'mtime': 1540097046.7086701},\n {'id': 2741730464,\n  'type': 'emptydir',\n  'progress': 100,\n  'path': '/volume1/Gondor/ASUS Miz/Archiv/Windows Backup/MIZ-ASUS/Data/C/Users/miz/AppData/Local/Packages/Microsoft.MicrosoftEdge_8wekyb3d8bbwe/AC/#!121/MicrosoftEdge/IECompatCache',\n  'size': 0,\n  'depth': 16,\n  'inode': 2085888,\n  'disk_id': 41,\n  'is_original': False,\n  'mtime': 1626988323.771443},\n {'id': 4289465458,\n  'type': 'emptydir',\n  'progress': 100,\n  'path': '/volume1/Gondor/MSI Aaron/Archiv/Windows Backup MSI old1/Data/C/Users/Aaron Bruelisauer/AppData/Local/MicrosoftEdge/SharedCacheContainers/MicrosoftEdge_EmieSiteList',\n  'size': 0,\n  'depth': 12,\n  'inode': 30921,\n  'disk_id': 41,\n  'is_original': False,\n  'mtime': 1626988423.9401267}]"
     },
     "execution_count": 77,
     "metadata": {},
     "output_type": "execute_result"
    }
   ],
   "source": [
    "def random_sample(list_: list, size: int = 10) -> list:\n",
    "    return random.Random(0).sample(list_, size)\n",
    "\n",
    "random_sample(empty_dirs, 3)"
   ],
   "metadata": {
    "collapsed": false,
    "ExecuteTime": {
     "end_time": "2024-02-09T12:06:41.856526Z",
     "start_time": "2024-02-09T12:06:41.854397Z"
    }
   },
   "id": "622cb5be4ca43bb4",
   "execution_count": 77
  },
  {
   "cell_type": "code",
   "outputs": [
    {
     "data": {
      "text/plain": "14866"
     },
     "execution_count": 78,
     "metadata": {},
     "output_type": "execute_result"
    }
   ],
   "source": [
    "def path_is_trash(path: str) -> bool:\n",
    "    return (\n",
    "        'trash' in path.lower() or\n",
    "        '#recycle' in path.lower()\n",
    "    )\n",
    "def is_in_trash(item_: dict) -> bool:\n",
    "    return (\n",
    "            isinstance(item_, dict) and\n",
    "            isinstance(item_.get('path'), str) and\n",
    "            path_is_trash(item_.get('path'))\n",
    "    )\n",
    "\n",
    "trash_items = [item for item in data if is_in_trash(item)]\n",
    "len(trash_items)"
   ],
   "metadata": {
    "collapsed": false,
    "ExecuteTime": {
     "end_time": "2024-02-09T12:06:41.888205Z",
     "start_time": "2024-02-09T12:06:41.869090Z"
    }
   },
   "id": "e1ef6618d4ea284d",
   "execution_count": 78
  },
  {
   "cell_type": "code",
   "outputs": [
    {
     "data": {
      "text/plain": "['/volume1/homes/#recycle/aaron/recover_benj/1/recup_dir.68/f1790557016.xml',\n '/volume1/homes/#recycle/aaron/recover_benj/1/recup_dir.84/f1795995712.txt',\n '/volume1/homes/#recycle/aaron/recover_benj/2/recup_dir.81/f1794027400.evtx',\n '/volume1/homes/#recycle/aaron/recover_benj/1/recup_dir.64/f1790422424.txt',\n '/volume1/homes/#recycle/aaron/recover_benj/1/recup_dir.93/f1797584192.png',\n '/volume1/homes/#recycle/aaron/recover_benj/1/recup_dir.56/f1790291128.png',\n '/volume1/homes/#recycle/aaron/recover_benj/1/recup_dir.105/f1798014256.png',\n '/volume1/homes/#recycle/aaron/recover_benj/1/recup_dir.132/f1806641304.txt',\n '/volume1/homes/#recycle/aaron/recover_benj/1/recup_dir.85/f1796016192.txt',\n '/volume1/homes/#recycle/aaron/recover_benj/1/recup_dir.37/f1788571816.java']"
     },
     "execution_count": 79,
     "metadata": {},
     "output_type": "execute_result"
    }
   ],
   "source": [
    "trash_paths = [item.get('path') for item in trash_items]\n",
    "random_sample(trash_paths)"
   ],
   "metadata": {
    "collapsed": false,
    "ExecuteTime": {
     "end_time": "2024-02-09T12:06:41.888545Z",
     "start_time": "2024-02-09T12:06:41.881434Z"
    }
   },
   "id": "a567cf4aa30a8574",
   "execution_count": 79
  },
  {
   "cell_type": "code",
   "outputs": [
    {
     "data": {
      "text/plain": "22664"
     },
     "execution_count": 80,
     "metadata": {},
     "output_type": "execute_result"
    }
   ],
   "source": [
    "non_trash_items = [item for item in data if not is_in_trash(item)]\n",
    "len(non_trash_items)"
   ],
   "metadata": {
    "collapsed": false,
    "ExecuteTime": {
     "end_time": "2024-02-09T12:06:41.902415Z",
     "start_time": "2024-02-09T12:06:41.899533Z"
    }
   },
   "id": "328e37617e56c260",
   "execution_count": 80
  },
  {
   "cell_type": "code",
   "outputs": [
    {
     "data": {
      "text/plain": "['/volume1/Gondor/ASUS Miz/Archiv/Windows Backup/MIZ-ASUS/Data/C/Program Files/WindowsApps/king.com.ParadiseBay_3.7.0.0_x86__kgqvnymyfvs32/bundle/data/holidayShop_I45 (2018_10_21 00_52_38 UTC).png',\n '/volume1/Bruchtal/old_bruchtal/Photos/2017/2017-10-16/20170726_161833_021.jpg',\n '/volume1/Gondor/Archiv/Miz HTC/.data/CacheManager/temp/-1970032149_1135208744_1405499188071',\n '/volume1/Gondor/ASUS Miz/Archiv/Windows Backup/MIZ-ASUS/Data/$OF/180781/3235 (2018_11_04 13_55_39 UTC).png',\n '/volume1/Gondor/ASUS Miz/Archiv/Windows Backup/MIZ-ASUS/Data/C/Program Files/Windows Defender/AmMonitoringInstall (2018_10_21 00_52_38 UTC).mof',\n '/volume1/Gondor/ASUS Miz/Archiv/Windows Backup/MIZ-ASUS/Data/C/Program Files/WindowsApps/king.com.ParadiseBay_3.7.0.0_x86__kgqvnymyfvs32/bundle/data/prometheusWorldPosition_Trail (2018_10_21 00_52_38 UTC).hs',\n '/volume1/homes/mirjam/laptop_andy/bilder (1)/2014-10-20/IMAG1076.jpg',\n '/volume1/Gondor/ASUS Miz/Archiv/Windows Backup/MIZ-ASUS/Data/$OF/145782/145967 (2018_11_03 16_42_41 UTC).png',\n '/volume1/Gondor/ASUS Miz/Archiv/Windows Backup/MIZ-ASUS/Data/C/Program Files/WindowsApps/king.com.ParadiseBay_3.7.0.0_x86__kgqvnymyfvs32/bundle/data/mission_angelfish_tp_167.scene (2018_10_21 00_52_38 UTC).lua',\n '/volume1/Gondor/ASUS Miz/Archiv/Windows Backup/MIZ-ASUS/Data/$OF/180716/3097 (2018_11_04 13_55_39 UTC).lua']"
     },
     "execution_count": 81,
     "metadata": {},
     "output_type": "execute_result"
    }
   ],
   "source": [
    "non_trash_paths = [item.get('path') for item in non_trash_items]\n",
    "random_sample(non_trash_paths)"
   ],
   "metadata": {
    "collapsed": false,
    "ExecuteTime": {
     "end_time": "2024-02-09T12:06:41.908196Z",
     "start_time": "2024-02-09T12:06:41.904437Z"
    }
   },
   "id": "4ca8889a65d51de3",
   "execution_count": 81
  },
  {
   "cell_type": "code",
   "outputs": [],
   "source": [
    "def is_in_eadir(item_: dict) -> bool:\n",
    "    return (\n",
    "        'path' in item_.keys() and (\n",
    "            '/@eaDir/' in item_.get('path')\n",
    "            or item_.get('path').endswith('/@eaDir')\n",
    "        )\n",
    "    )\n",
    "\n",
    "not_eadir_items = [item for item in non_trash_items if not is_in_eadir(item)]"
   ],
   "metadata": {
    "collapsed": false,
    "ExecuteTime": {
     "end_time": "2024-02-09T12:06:41.921615Z",
     "start_time": "2024-02-09T12:06:41.918147Z"
    }
   },
   "id": "8a1f3ccc9020eb03",
   "execution_count": 82
  },
  {
   "cell_type": "code",
   "outputs": [
    {
     "data": {
      "text/plain": "{None: 2,\n 'emptydir': 1034,\n 'emptyfile': 1137,\n 'part_of_directory': 105,\n 'duplicate_dir': 3,\n 'duplicate_file': 18863}"
     },
     "execution_count": 83,
     "metadata": {},
     "output_type": "execute_result"
    }
   ],
   "source": [
    "def summarise_types(items: list[dict]) -> dict:\n",
    "    types_counter = Counter(item_.get('type') for item_ in items)\n",
    "    return dict(types_counter)\n",
    "\n",
    "summarise_types(not_eadir_items)"
   ],
   "metadata": {
    "collapsed": false,
    "ExecuteTime": {
     "end_time": "2024-02-09T12:06:41.932370Z",
     "start_time": "2024-02-09T12:06:41.925033Z"
    }
   },
   "id": "c4d3e46808917bf9",
   "execution_count": 83
  },
  {
   "cell_type": "code",
   "outputs": [
    {
     "data": {
      "text/plain": "['/volume1/Gondor/Archiv/Festplatte 1TB Toschiba Miz/USB Copy_2019-04-01_203757/x201-20160723/restore/20160723/.mozilla/firefox/bc8e9dia.default/webapps',\n '/volume1/Gondor/Archiv/Festplatte 1TB Toschiba Miz/USB Copy_2019-04-01_203757/x201-20160723/restore/20160722/.mozilla/firefox/bc8e9dia.default/webapps',\n '/volume1/Gondor/Archiv/Festplatte 1TB Toschiba Miz/USB Copy_2019-04-01_203757/x201-20160723/.mozilla/firefox/bc8e9dia.default/webapps']"
     },
     "execution_count": 84,
     "metadata": {},
     "output_type": "execute_result"
    }
   ],
   "source": [
    "duplicate_dirs = [item for item in not_eadir_items if item.get('type') == 'duplicate_dir']\n",
    "[item.get('path') for item in duplicate_dirs]"
   ],
   "metadata": {
    "collapsed": false,
    "ExecuteTime": {
     "end_time": "2024-02-09T12:06:41.932767Z",
     "start_time": "2024-02-09T12:06:41.929627Z"
    }
   },
   "id": "1a1b05aa52cd32e3",
   "execution_count": 84
  },
  {
   "cell_type": "code",
   "outputs": [
    {
     "data": {
      "text/plain": "{'number of files in duplicate_dir folders': 105}"
     },
     "execution_count": 89,
     "metadata": {},
     "output_type": "execute_result"
    }
   ],
   "source": [
    "part_of_directory = [item for item in not_eadir_items if item.get('type') == 'part_of_directory']\n",
    "{'number of files in duplicate_dir folders': len(part_of_directory)}"
   ],
   "metadata": {
    "collapsed": false,
    "ExecuteTime": {
     "end_time": "2024-02-09T12:11:43.321457Z",
     "start_time": "2024-02-09T12:11:43.316778Z"
    }
   },
   "id": "86d0075faffdbc79",
   "execution_count": 89
  },
  {
   "cell_type": "code",
   "outputs": [
    {
     "data": {
      "text/plain": "['/volume1/Gondor/Archiv/Miz HTC/.data/CacheManager/temp/-143952354_1126798560_1410642206965',\n '/volume1/Gondor/Archiv/Miz HTC/.data/CacheManager/temp/1039756326_1114274808_1410637828167',\n '/volume1/Gondor/ASUS Miz/Archiv/Windows Backup/MIZ-ASUS/Data/C/$RECYCLE.BIN/S-1-5-21-2031780992-3694289565-779588206-1001/@eaDir/$I13HXLY (2019_01_22 16_14_32 UTC).jpg/SYNOPHOTO_THUMB_XL.fail',\n '/volume1/Gondor/Archiv/Note8/backups/USB/Android/data/com.viber.voip',\n '/volume1/Gondor/Archiv/Miz HTC/.data/CacheManager/temp/-819538873_1126488120_1406554760538',\n '/volume1/Gondor/ASUS Miz/Archiv/Windows Backup/MIZ-ASUS/Data/C/$RECYCLE.BIN/S-1-5-21-2031780992-3694289565-779588206-1001/@eaDir/$IGPE9X2 (2019_01_22 16_14_32 UTC).jpg/SYNOPHOTO_THUMB_B.fail',\n '/volume1/Gondor/ASUS Miz/Archiv/Windows Backup/MIZ-ASUS/Data/C/$RECYCLE.BIN/S-1-5-21-2031780992-3694289565-779588206-1001/@eaDir/$IGE5W5E (2019_01_22 16_14_32 UTC).jpg/SYNOPHOTO_THUMB_B.fail',\n '/volume1/Gondor/Archiv/Miz HTC/.data/CacheManager/temp/-1100859774_1109283088_1405260969756',\n '/volume1/Gondor/ASUS Miz/Archiv/Windows Backup/MIZ-ASUS/Data/C/Windows/WinSxS/amd64_dual_wiasa003.inf_31bf3856ad364e35_10.0.17134.1_none_43e3db2b015022ba/amd64/SA3170 (2018_11_04 10_42_12 UTC).icc',\n '/volume1/Gondor/Archiv/Miz HTC/.data/CacheManager/temp/-346526800_1130357952_1405498104602']"
     },
     "execution_count": 90,
     "metadata": {},
     "output_type": "execute_result"
    }
   ],
   "source": [
    "duplicate_files_random_sample = random_sample(duplicate_files)\n",
    "[item.get('path') for item in duplicate_files_random_sample]"
   ],
   "metadata": {
    "collapsed": false,
    "ExecuteTime": {
     "end_time": "2024-02-09T12:13:04.873657Z",
     "start_time": "2024-02-09T12:13:04.869010Z"
    }
   },
   "id": "e9802367cca96e5",
   "execution_count": 90
  }
 ],
 "metadata": {
  "kernelspec": {
   "display_name": "Python 3",
   "language": "python",
   "name": "python3"
  },
  "language_info": {
   "codemirror_mode": {
    "name": "ipython",
    "version": 2
   },
   "file_extension": ".py",
   "mimetype": "text/x-python",
   "name": "python",
   "nbconvert_exporter": "python",
   "pygments_lexer": "ipython2",
   "version": "2.7.6"
  }
 },
 "nbformat": 4,
 "nbformat_minor": 5
}
